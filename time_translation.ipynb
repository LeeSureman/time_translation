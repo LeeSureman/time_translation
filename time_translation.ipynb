{
 "cells": [
  {
   "cell_type": "code",
   "execution_count": 1,
   "metadata": {},
   "outputs": [
    {
     "name": "stderr",
     "output_type": "stream",
     "text": [
      "D:\\Anaconda3\\lib\\site-packages\\h5py\\__init__.py:36: FutureWarning: Conversion of the second argument of issubdtype from `float` to `np.floating` is deprecated. In future, it will be treated as `np.float64 == np.dtype(float).type`.\n",
      "  from ._conv import register_converters as _register_converters\n"
     ]
    }
   ],
   "source": [
    "import tensorflow as tf\n",
    "import numpy as np"
   ]
  },
  {
   "cell_type": "code",
   "execution_count": 2,
   "metadata": {},
   "outputs": [
    {
     "name": "stdout",
     "output_type": "stream",
     "text": [
      "(1000, 30, 37)\n"
     ]
    }
   ],
   "source": [
    "X = np.load(r'D:\\learning_data\\time_translation\\x.npy')\n",
    "Y = np.load(r'D:\\learning_data\\time_translation\\y.npy')\n",
    "X_test = X[9000:10000]\n",
    "Y_test = Y[9000:10000]\n",
    "Y = Y[0:9000]\n",
    "X = X[0:9000]\n",
    "now_batch_size = tf.placeholder(shape=[],dtype=tf.int32,name=\"batch_size\")\n",
    "print(X_test.shape)"
   ]
  },
  {
   "cell_type": "code",
   "execution_count": 3,
   "metadata": {},
   "outputs": [
    {
     "name": "stdout",
     "output_type": "stream",
     "text": [
      "(9000, 30, 37)\n",
      "(9000, 10, 11)\n"
     ]
    }
   ],
   "source": [
    "print(X.shape)\n",
    "print(Y.shape)"
   ]
  },
  {
   "cell_type": "code",
   "execution_count": 4,
   "metadata": {},
   "outputs": [],
   "source": [
    "human_vocab = {' ': 0, '.': 1, '/': 2, '0': 3, '1': 4, '2': 5, '3': 6, '4': 7, '5': 8, '6': 9, '7': 10, '8': 11,\n",
    "                   '9': 12, 'a': 13, 'b': 14, 'c': 15, 'd': 16, 'e': 17, 'f': 18, 'g': 19, 'h': 20, 'i': 21, 'j': 22,\n",
    "                   'l': 23, 'm': 24, 'n': 25, 'o': 26, 'p': 27, 'r': 28, 's': 29, 't': 30, 'u': 31, 'v': 32, 'w': 33,\n",
    "                   'y': 34, '<unk>': 35, '<pad>': 36}\n",
    "machine_vocab = {'-': 0, '0': 1, '1': 2, '2': 3, '3': 4, '4': 5, '5': 6, '6': 7, '7': 8, '8': 9, '9': 10}\n",
    "inv_machine_vocab = {0: '-', 1: '0', 2: '1', 3: '2', 4: '3', 5: '4', 6: '5', 7: '6', 8: '7', 9: '8', 10: '9'}"
   ]
  },
  {
   "cell_type": "code",
   "execution_count": 6,
   "metadata": {},
   "outputs": [
    {
     "name": "stdout",
     "output_type": "stream",
     "text": [
      "37\n",
      "11\n"
     ]
    }
   ],
   "source": [
    "n_a = 32\n",
    "n_s = 64\n",
    "Tx = 30\n",
    "Ty = 10\n",
    "len_human_vocabulary = len(human_vocab)\n",
    "print(len_human_vocabulary)\n",
    "len_machine_vocabulary = len(machine_vocab)\n",
    "print(len_machine_vocabulary)\n",
    "minibatch_size = 64"
   ]
  },
  {
   "cell_type": "code",
   "execution_count": 7,
   "metadata": {},
   "outputs": [],
   "source": [
    "x_placeholder = tf.placeholder(dtype=tf.float32,shape=[None,Tx,len_human_vocabulary],name='x_placeholder')\n",
    "y_placeholder = tf.placeholder(dtype=tf.float32,shape=[None,Ty,len_machine_vocabulary],name='y_placeholder')"
   ]
  },
  {
   "cell_type": "code",
   "execution_count": 8,
   "metadata": {},
   "outputs": [],
   "source": [
    "lstm_cell_pre1 = tf.contrib.rnn.BasicLSTMCell(n_a)\n",
    "lstm_cell_pre2 = tf.contrib.rnn.BasicLSTMCell(n_a)\n",
    "a,_ = tf.nn.bidirectional_dynamic_rnn(lstm_cell_pre1,lstm_cell_pre2,x_placeholder,dtype=tf.float32)\n",
    "a = tf.concat([a[0],a[1]],-1)"
   ]
  },
  {
   "cell_type": "code",
   "execution_count": 9,
   "metadata": {},
   "outputs": [],
   "source": [
    "lstm_cell_post = tf.contrib.rnn.BasicLSTMCell(n_s,reuse=tf.AUTO_REUSE)"
   ]
  },
  {
   "cell_type": "code",
   "execution_count": 10,
   "metadata": {},
   "outputs": [
    {
     "name": "stdout",
     "output_type": "stream",
     "text": [
      "(?, 64)\n"
     ]
    }
   ],
   "source": [
    "cell_state_0_par = tf.Variable(tf.random_normal([1,n_s]))\n",
    "hidden_state_0_par = tf.Variable(tf.random_normal([1,n_s]))\n",
    "# cell_state_0_holder = tf.placeholder(shape=[None,n_s],dtype=tf.float32)\n",
    "# hidden_state_0_holder = tf.placeholder(shape=[None,n_s],dtype=tf.float32)\n",
    "# cell_state = tf.tile(cell_state_0_holder,[minibatch_size,1])\n",
    "# hidden_state  = tf.tile(hidden_state_0_holder,[minibatch_size,1])\n",
    "cell_state_0 = tf.tile(cell_state_0_par,[now_batch_size,1])\n",
    "hidden_state_0 = tf.tile(hidden_state_0_par,[now_batch_size,1])\n",
    "print(cell_state_0.shape)\n",
    "# b = tf. \n",
    "# c = lstm_cell_post.call(b,LSTM_state)"
   ]
  },
  {
   "cell_type": "code",
   "execution_count": 11,
   "metadata": {},
   "outputs": [
    {
     "name": "stdout",
     "output_type": "stream",
     "text": [
      "(?, 30, 64)\n"
     ]
    }
   ],
   "source": [
    "print(a.shape)\n",
    "# cd = tf.layers.dense(inputs=a,units=10,reuse=tf.AUTO_REUSE)"
   ]
  },
  {
   "cell_type": "code",
   "execution_count": 12,
   "metadata": {},
   "outputs": [],
   "source": [
    "def one_step_attention(a,s_pre):\n",
    "    s_pre = tf.expand_dims(s_pre,axis=1)\n",
    "#     print(\"after exp:\",s_pre.shape)\n",
    "    s_pre = tf.tile(s_pre,[1,Tx,1])\n",
    "#     print(\"after repeating:\",s_pre.shape)\n",
    "    hidden = tf.layers.dense(inputs=tf.concat([a,s_pre],-1),units=10,reuse=tf.AUTO_REUSE,name='attention_dense_1')\n",
    "    energies = tf.layers.dense(inputs = hidden,units=1,reuse=tf.AUTO_REUSE,name='attention_dense_2')\n",
    "    energies = tf.transpose(energies,[0,2,1])\n",
    "    e = tf.nn.softmax(energies,axis=-1)\n",
    "#     print(e.shape)\n",
    "    context = tf.matmul(e,a)\n",
    "#     context = tf.multiply(a,e)\n",
    "#     print(context.shape)\n",
    "    context = tf.reduce_sum(context,-2)\n",
    "#     print(context.shape)\n",
    "    return context"
   ]
  },
  {
   "cell_type": "code",
   "execution_count": 13,
   "metadata": {},
   "outputs": [],
   "source": [
    "# ta = tf.placeholder(shape=[None,64],dtype=tf.float32)\n",
    "# ts = tf.placeholder(shape=[None,64],dtype=tf.float32)\n",
    "# lxn = tf.nn.rnn_cell.BasicLSTMCell(num_units=64)\n",
    "# lxn.__call__(ta,[cell_state_0,hidden_state_0_])\n",
    "# # one_step_attention(a,hidden_state_0_holder)"
   ]
  },
  {
   "cell_type": "code",
   "execution_count": 14,
   "metadata": {},
   "outputs": [
    {
     "ename": "NameError",
     "evalue": "name 'h' is not defined",
     "output_type": "error",
     "traceback": [
      "\u001b[1;31m---------------------------------------------------------------------------\u001b[0m",
      "\u001b[1;31mNameError\u001b[0m                                 Traceback (most recent call last)",
      "\u001b[1;32m<ipython-input-14-339bb037ef13>\u001b[0m in \u001b[0;36m<module>\u001b[1;34m()\u001b[0m\n\u001b[0;32m      6\u001b[0m \u001b[1;31m# print(test1.__call__(inputs=lxn1,state=[state111,state111]))\u001b[0m\u001b[1;33m\u001b[0m\u001b[1;33m\u001b[0m\u001b[0m\n\u001b[0;32m      7\u001b[0m \u001b[1;31m# test1.call(inputs=lxn1,state=[state111,state111])\u001b[0m\u001b[1;33m\u001b[0m\u001b[1;33m\u001b[0m\u001b[0m\n\u001b[1;32m----> 8\u001b[1;33m \u001b[0mcontext\u001b[0m \u001b[1;33m=\u001b[0m \u001b[0mone_step_attention\u001b[0m\u001b[1;33m(\u001b[0m\u001b[0ma\u001b[0m\u001b[1;33m,\u001b[0m\u001b[0mh\u001b[0m\u001b[1;33m)\u001b[0m\u001b[1;33m\u001b[0m\u001b[0m\n\u001b[0m\u001b[0;32m      9\u001b[0m \u001b[0mprint\u001b[0m\u001b[1;33m(\u001b[0m\u001b[0mcontext\u001b[0m\u001b[1;33m.\u001b[0m\u001b[0mshape\u001b[0m\u001b[1;33m)\u001b[0m\u001b[1;33m\u001b[0m\u001b[0m\n",
      "\u001b[1;31mNameError\u001b[0m: name 'h' is not defined"
     ]
    }
   ],
   "source": [
    "# lxn1 = tf.placeholder(shape=(100,64),dtype=tf.float32,name='sss')\n",
    "# # lxn2 = tf.placeholder(shape=(None,25),dtype=tf.float32)\n",
    "# test1 = tf.nn.rnn_cell.BasicLSTMCell(num_units=n_s,reuse=tf.AUTO_REUSE)\n",
    "# state111 = tf.placeholder(shape=(100,n_s),dtype=tf.float32)\n",
    "# # test1.__call__(inputs=lxn1,state=LSTM_state)\n",
    "# print(test1.__call__(inputs=lxn1,state=[state111,state111]))\n",
    "# test1.call(inputs=lxn1,state=[state111,state111])\n",
    "context = one_step_attention(a,h)\n",
    "print(context.shape)"
   ]
  },
  {
   "cell_type": "code",
   "execution_count": 15,
   "metadata": {
    "scrolled": true
   },
   "outputs": [
    {
     "name": "stdout",
     "output_type": "stream",
     "text": [
      "(?, 64)\n",
      "(?, 64)\n"
     ]
    }
   ],
   "source": [
    "h = hidden_state_0\n",
    "c = cell_state_0\n",
    "print(h.shape)\n",
    "print(c.shape)\n",
    "predict = tf.placeholder\n",
    "outputs = []\n",
    "for t in range(Ty):\n",
    "    context = one_step_attention(a,h)\n",
    "    _,s = lstm_cell_post.__call__(context,[c,h])\n",
    "    c,h = s\n",
    "    outputs.append(tf.layers.dense\n",
    "                   (inputs=h,units=len_machine_vocabulary,reuse=tf.AUTO_REUSE,name='outputer'))\n",
    "\n",
    "outputs = tf.stack(outputs,axis=1)\n"
   ]
  },
  {
   "cell_type": "code",
   "execution_count": 16,
   "metadata": {},
   "outputs": [
    {
     "name": "stdout",
     "output_type": "stream",
     "text": [
      "(?, 10, 11)\n"
     ]
    }
   ],
   "source": [
    "print(outputs.shape)"
   ]
  },
  {
   "cell_type": "code",
   "execution_count": 17,
   "metadata": {},
   "outputs": [
    {
     "name": "stdout",
     "output_type": "stream",
     "text": [
      "(?, 10, 11)\n"
     ]
    }
   ],
   "source": [
    "print(y_placeholder.shape)"
   ]
  },
  {
   "cell_type": "code",
   "execution_count": 18,
   "metadata": {},
   "outputs": [
    {
     "name": "stdout",
     "output_type": "stream",
     "text": [
      "()\n"
     ]
    }
   ],
   "source": [
    "cost_function = tf.reduce_sum(tf.nn.softmax_cross_entropy_with_logits_v2(logits=outputs,labels=y_placeholder))/9000\n",
    "print(cost_function.shape)"
   ]
  },
  {
   "cell_type": "code",
   "execution_count": 19,
   "metadata": {},
   "outputs": [],
   "source": [
    "optimizer = tf.train.AdamOptimizer(0.005).minimize(cost_function)\n",
    "sess = tf.Session()\n",
    "init = tf.global_variables_initializer()\n",
    "sess.run(init)"
   ]
  },
  {
   "cell_type": "code",
   "execution_count": 20,
   "metadata": {},
   "outputs": [
    {
     "name": "stdout",
     "output_type": "stream",
     "text": [
      "(64, 10, 11)\n",
      "0.1659565\n",
      "0.16476667\n"
     ]
    }
   ],
   "source": [
    "ys = Y[0:minibatch_size]\n",
    "xs = X[0:minibatch_size]\n",
    "print(ys.shape)\n",
    "print(sess.run(cost_function,feed_dict={y_placeholder:ys,x_placeholder:xs,now_batch_size:minibatch_size}))\n",
    "translated_time = tf.argmax(outputs,-1)\n",
    "standard_time = tf.argmax(y_placeholder,-1)\n",
    "correct = tf.equal(translated_time,standard_time)\n",
    "accuracy = tf.reduce_mean(tf.cast(correct,\"float\"))\n",
    "print(sess.run(accuracy,feed_dict={y_placeholder:Y,x_placeholder:X,now_batch_size:9000}))"
   ]
  },
  {
   "cell_type": "code",
   "execution_count": 21,
   "metadata": {
    "scrolled": true
   },
   "outputs": [
    {
     "name": "stdout",
     "output_type": "stream",
     "text": [
      "(64, 30, 37)\n",
      "(64, 10, 11)\n",
      "cost: 23.373549\n",
      "accuracy_train: 0.16476667\n",
      "accuracy_test: 0.1697\n",
      "cost: 7.388712\n",
      "accuracy_train: 0.7244889\n",
      "accuracy_test: 0.7246\n",
      "cost: 3.0688174\n",
      "accuracy_train: 0.88762224\n",
      "accuracy_test: 0.8791\n",
      "cost: 1.4145228\n",
      "accuracy_train: 0.9562889\n",
      "accuracy_test: 0.9494\n",
      "cost: 0.7524823\n",
      "accuracy_train: 0.9785778\n",
      "accuracy_test: 0.973\n",
      "cost: 0.40783703\n",
      "accuracy_train: 0.98928887\n",
      "accuracy_test: 0.985\n",
      "cost: 0.2379683\n",
      "accuracy_train: 0.99432224\n",
      "accuracy_test: 0.9905\n",
      "cost: 0.13439785\n",
      "accuracy_train: 0.9973556\n",
      "accuracy_test: 0.9947\n",
      "cost: 0.13980357\n",
      "accuracy_train: 0.9969222\n",
      "accuracy_test: 0.9929\n",
      "cost: 0.10010674\n",
      "accuracy_train: 0.99754447\n",
      "accuracy_test: 0.9953\n",
      "cost: 0.11164998\n",
      "accuracy_train: 0.9967\n",
      "accuracy_test: 0.9946\n",
      "cost: 0.049163014\n",
      "accuracy_train: 0.9988889\n",
      "accuracy_test: 0.9971\n",
      "cost: 0.15397993\n",
      "accuracy_train: 0.9957111\n",
      "accuracy_test: 0.9938\n",
      "cost: 0.34305772\n",
      "accuracy_train: 0.9901556\n",
      "accuracy_test: 0.9876\n",
      "cost: 0.02572367\n",
      "accuracy_train: 0.99961114\n",
      "accuracy_test: 0.9982\n",
      "cost: 0.015179887\n",
      "accuracy_train: 0.9998556\n",
      "accuracy_test: 0.9989\n",
      "cost: 0.0070040664\n",
      "accuracy_train: 1.0\n",
      "accuracy_test: 0.9991\n",
      "cost: 0.005025776\n",
      "accuracy_train: 1.0\n",
      "accuracy_test: 0.9992\n",
      "cost: 0.00410073\n",
      "accuracy_train: 1.0\n",
      "accuracy_test: 0.9992\n",
      "cost: 0.0034971456\n",
      "accuracy_train: 1.0\n",
      "accuracy_test: 0.9993\n",
      "cost: 0.003039102\n",
      "accuracy_train: 1.0\n",
      "accuracy_test: 0.9995\n",
      "cost: 0.002671026\n",
      "accuracy_train: 1.0\n",
      "accuracy_test: 0.9995\n",
      "cost: 0.0023679398\n",
      "accuracy_train: 1.0\n",
      "accuracy_test: 0.9995\n",
      "cost: 0.002113379\n",
      "accuracy_train: 1.0\n",
      "accuracy_test: 0.9996\n",
      "cost: 0.0018961572\n",
      "accuracy_train: 1.0\n",
      "accuracy_test: 0.9996\n",
      "cost: 0.001708501\n",
      "accuracy_train: 1.0\n",
      "accuracy_test: 0.9996\n",
      "cost: 0.0015448311\n",
      "accuracy_train: 1.0\n",
      "accuracy_test: 0.9995\n",
      "cost: 0.001400961\n",
      "accuracy_train: 1.0\n",
      "accuracy_test: 0.9995\n",
      "cost: 0.001273663\n",
      "accuracy_train: 1.0\n",
      "accuracy_test: 0.9995\n",
      "cost: 0.0011604177\n",
      "accuracy_train: 1.0\n",
      "accuracy_test: 0.9995\n",
      "cost: 0.0010591941\n",
      "accuracy_train: 1.0\n",
      "accuracy_test: 0.9997\n",
      "cost: 0.0009683798\n",
      "accuracy_train: 1.0\n",
      "accuracy_test: 0.9997\n",
      "cost: 0.000886623\n",
      "accuracy_train: 1.0\n",
      "accuracy_test: 0.9997\n",
      "cost: 0.0008127877\n",
      "accuracy_train: 1.0\n",
      "accuracy_test: 0.9997\n",
      "cost: 0.00074591604\n",
      "accuracy_train: 1.0\n",
      "accuracy_test: 0.9997\n",
      "cost: 0.0006852034\n",
      "accuracy_train: 1.0\n",
      "accuracy_test: 0.9997\n",
      "cost: 0.00062995654\n",
      "accuracy_train: 1.0\n",
      "accuracy_test: 0.9997\n",
      "cost: 0.0005795783\n",
      "accuracy_train: 1.0\n",
      "accuracy_test: 0.9997\n",
      "cost: 0.00053357694\n",
      "accuracy_train: 1.0\n",
      "accuracy_test: 0.9997\n",
      "cost: 0.0004915298\n",
      "accuracy_train: 1.0\n",
      "accuracy_test: 0.9997\n",
      "cost: 0.00045306142\n",
      "accuracy_train: 1.0\n",
      "accuracy_test: 0.9998\n",
      "cost: 0.0004178343\n",
      "accuracy_train: 1.0\n",
      "accuracy_test: 0.9998\n",
      "cost: 0.00038554607\n",
      "accuracy_train: 1.0\n",
      "accuracy_test: 0.9998\n",
      "cost: 0.00035592096\n",
      "accuracy_train: 1.0\n",
      "accuracy_test: 0.9998\n",
      "cost: 0.00032869467\n",
      "accuracy_train: 1.0\n",
      "accuracy_test: 0.9998\n",
      "cost: 0.00030364876\n",
      "accuracy_train: 1.0\n",
      "accuracy_test: 0.9998\n",
      "cost: 0.00028058735\n",
      "accuracy_train: 1.0\n",
      "accuracy_test: 0.9998\n",
      "cost: 0.00025932927\n",
      "accuracy_train: 1.0\n",
      "accuracy_test: 0.9998\n",
      "cost: 0.00023973426\n",
      "accuracy_train: 1.0\n",
      "accuracy_test: 0.9998\n",
      "cost: 0.00022166845\n",
      "accuracy_train: 1.0\n",
      "accuracy_test: 0.9998\n",
      "cost: 0.0002050125\n",
      "accuracy_train: 1.0\n",
      "accuracy_test: 0.9998\n",
      "cost: 0.00018966086\n",
      "accuracy_train: 1.0\n",
      "accuracy_test: 0.9998\n",
      "cost: 0.00017550575\n",
      "accuracy_train: 1.0\n",
      "accuracy_test: 0.9998\n",
      "cost: 0.00016244364\n",
      "accuracy_train: 1.0\n",
      "accuracy_test: 0.9998\n",
      "cost: 0.00015038464\n",
      "accuracy_train: 1.0\n",
      "accuracy_test: 0.9998\n",
      "cost: 0.00013924968\n",
      "accuracy_train: 1.0\n",
      "accuracy_test: 0.9998\n",
      "cost: 0.00012895749\n",
      "accuracy_train: 1.0\n",
      "accuracy_test: 0.9998\n",
      "cost: 0.000119436176\n",
      "accuracy_train: 1.0\n",
      "accuracy_test: 0.9998\n",
      "cost: 0.00011063721\n",
      "accuracy_train: 1.0\n",
      "accuracy_test: 0.9998\n",
      "cost: 0.000102497754\n",
      "accuracy_train: 1.0\n",
      "accuracy_test: 0.9998\n",
      "cost: 9.496874e-05\n",
      "accuracy_train: 1.0\n",
      "accuracy_test: 0.9998\n",
      "cost: 8.800966e-05\n",
      "accuracy_train: 1.0\n",
      "accuracy_test: 0.9998\n",
      "cost: 8.1570215e-05\n",
      "accuracy_train: 1.0\n",
      "accuracy_test: 0.9998\n",
      "cost: 7.5616896e-05\n",
      "accuracy_train: 1.0\n",
      "accuracy_test: 0.9998\n",
      "cost: 7.0105205e-05\n",
      "accuracy_train: 1.0\n",
      "accuracy_test: 0.9998\n",
      "cost: 6.500422e-05\n",
      "accuracy_train: 1.0\n",
      "accuracy_test: 0.9998\n",
      "cost: 6.028464e-05\n",
      "accuracy_train: 1.0\n",
      "accuracy_test: 0.9998\n",
      "cost: 5.5915218e-05\n",
      "accuracy_train: 1.0\n",
      "accuracy_test: 0.9998\n",
      "cost: 5.1867704e-05\n",
      "accuracy_train: 1.0\n",
      "accuracy_test: 0.9998\n",
      "cost: 4.8119342e-05\n",
      "accuracy_train: 1.0\n",
      "accuracy_test: 0.9998\n",
      "cost: 4.464563e-05\n",
      "accuracy_train: 1.0\n",
      "accuracy_test: 0.9998\n",
      "cost: 4.1427375e-05\n",
      "accuracy_train: 1.0\n",
      "accuracy_test: 0.9998\n",
      "cost: 3.844161e-05\n",
      "accuracy_train: 1.0\n",
      "accuracy_test: 0.9998\n",
      "cost: 3.5675803e-05\n",
      "accuracy_train: 1.0\n",
      "accuracy_test: 0.9998\n",
      "cost: 3.3112294e-05\n",
      "accuracy_train: 1.0\n",
      "accuracy_test: 0.9998\n",
      "cost: 3.0732474e-05\n",
      "accuracy_train: 1.0\n",
      "accuracy_test: 0.9998\n",
      "cost: 2.8529095e-05\n",
      "accuracy_train: 1.0\n",
      "accuracy_test: 0.9998\n",
      "cost: 2.6484784e-05\n",
      "accuracy_train: 1.0\n",
      "accuracy_test: 0.9998\n",
      "cost: 2.458619e-05\n",
      "accuracy_train: 1.0\n",
      "accuracy_test: 0.9998\n",
      "cost: 2.2829608e-05\n",
      "accuracy_train: 1.0\n",
      "accuracy_test: 0.9998\n",
      "cost: 2.1196627e-05\n",
      "accuracy_train: 1.0\n",
      "accuracy_test: 0.9998\n",
      "cost: 1.9678066e-05\n",
      "accuracy_train: 1.0\n",
      "accuracy_test: 0.9998\n",
      "cost: 1.8274857e-05\n",
      "accuracy_train: 1.0\n",
      "accuracy_test: 0.9998\n",
      "cost: 1.6973105e-05\n",
      "accuracy_train: 1.0\n",
      "accuracy_test: 0.9998\n",
      "cost: 1.5765574e-05\n",
      "accuracy_train: 1.0\n",
      "accuracy_test: 0.9998\n",
      "cost: 1.4642045e-05\n",
      "accuracy_train: 1.0\n",
      "accuracy_test: 0.9998\n",
      "cost: 1.3600371e-05\n",
      "accuracy_train: 1.0\n",
      "accuracy_test: 0.9998\n",
      "cost: 1.26363e-05\n",
      "accuracy_train: 1.0\n",
      "accuracy_test: 0.9998\n",
      "cost: 1.17394075e-05\n",
      "accuracy_train: 1.0\n",
      "accuracy_test: 0.9998\n",
      "cost: 1.0906039e-05\n",
      "accuracy_train: 1.0\n",
      "accuracy_test: 0.9998\n",
      "cost: 1.0133399e-05\n",
      "accuracy_train: 1.0\n",
      "accuracy_test: 0.9998\n",
      "cost: 9.416919e-06\n",
      "accuracy_train: 1.0\n",
      "accuracy_test: 0.9998\n",
      "cost: 8.754373e-06\n",
      "accuracy_train: 1.0\n",
      "accuracy_test: 0.9998\n",
      "cost: 8.134702e-06\n",
      "accuracy_train: 1.0\n",
      "accuracy_test: 0.9998\n",
      "cost: 7.560144e-06\n",
      "accuracy_train: 1.0\n",
      "accuracy_test: 0.9998\n",
      "cost: 7.030237e-06\n",
      "accuracy_train: 1.0\n",
      "accuracy_test: 0.9998\n",
      "cost: 6.5367267e-06\n",
      "accuracy_train: 1.0\n",
      "accuracy_test: 0.9998\n",
      "cost: 6.0771386e-06\n",
      "accuracy_train: 1.0\n",
      "accuracy_test: 0.9998\n",
      "cost: 5.6504514e-06\n",
      "accuracy_train: 1.0\n",
      "accuracy_test: 0.9998\n",
      "cost: 5.255354e-06\n",
      "accuracy_train: 1.0\n",
      "accuracy_test: 0.9999\n"
     ]
    }
   ],
   "source": [
    "print(xs.shape)\n",
    "print(ys.shape)\n",
    "for e in range(100):\n",
    "    print('cost:',sess.run(cost_function,feed_dict={y_placeholder:Y,x_placeholder:X,now_batch_size:9000}))\n",
    "    print('accuracy_train:',sess.run(accuracy,feed_dict={y_placeholder:Y,x_placeholder:X,now_batch_size:9000}))\n",
    "    print('accuracy_test:',sess.run(accuracy,feed_dict={y_placeholder:Y_test,x_placeholder:X_test,now_batch_size:1000}))\n",
    "    for i in range(141):\n",
    "        low = 64*i\n",
    "        high = 64*(i+1)\n",
    "        if high>8999:\n",
    "            high = 8999\n",
    "        ys = Y[low:high]\n",
    "        xs = X[low:high]\n",
    "        sess.run(optimizer,feed_dict={y_placeholder:ys,x_placeholder:xs,now_batch_size:high-low})\n",
    "    "
   ]
  },
  {
   "cell_type": "code",
   "execution_count": 84,
   "metadata": {},
   "outputs": [],
   "source": [
    "def predict(s):\n",
    "    l = []\n",
    "    for c in s:\n",
    "        l.append(human_vocab[c])\n",
    "    one_hot = np.zeros(shape=[1,Tx,len(human_vocab)])\n",
    "    for i in range(len(s)):\n",
    "        one_hot[0,i,human_vocab[s[i]]] = 1\n",
    "    for i in range(len(s),Tx):\n",
    "        one_hot[0,i,human_vocab['<pad>']] = 1\n",
    "    print(one_hot.shape)\n",
    "    pred = sess.run(outputs,feed_dict={x_placeholder:one_hot,now_batch_size:1})\n",
    "    result = np.argmax(pred,-1)\n",
    "    print(result)\n",
    "    print(result.shape)\n",
    "    print(result[0,9])\n",
    "    result_s = []\n",
    "    for i in range(len(result[0])):\n",
    "        result_s.append(inv_machine_vocab[result[0,i]])\n",
    "    return result_s"
   ]
  },
  {
   "cell_type": "code",
   "execution_count": 103,
   "metadata": {},
   "outputs": [
    {
     "name": "stdout",
     "output_type": "stream",
     "text": [
      "(1, 30, 37)\n",
      "[[ 2 10  8  9  0  1  7  0  2  2]]\n",
      "(1, 10)\n",
      "2\n"
     ]
    },
    {
     "data": {
      "text/plain": [
       "['1', '9', '7', '8', '-', '0', '6', '-', '1', '1']"
      ]
     },
     "execution_count": 103,
     "metadata": {},
     "output_type": "execute_result"
    }
   ],
   "source": [
    "predict(r'6/11/78')"
   ]
  },
  {
   "cell_type": "code",
   "execution_count": 72,
   "metadata": {},
   "outputs": [
    {
     "data": {
      "text/plain": [
       "37"
      ]
     },
     "execution_count": 72,
     "metadata": {},
     "output_type": "execute_result"
    }
   ],
   "source": [
    "len(human_vocab)"
   ]
  },
  {
   "cell_type": "code",
   "execution_count": 43,
   "metadata": {},
   "outputs": [
    {
     "data": {
      "text/plain": [
       "6"
      ]
     },
     "execution_count": 43,
     "metadata": {},
     "output_type": "execute_result"
    }
   ],
   "source": [
    "lxn1 = np.array([[1,2,3],[4,5,6]])\n",
    "lxn1[1][2]"
   ]
  },
  {
   "cell_type": "code",
   "execution_count": 104,
   "metadata": {},
   "outputs": [],
   "source": [
    "saver = tf.train.Saver()\n"
   ]
  },
  {
   "cell_type": "code",
   "execution_count": 105,
   "metadata": {},
   "outputs": [
    {
     "data": {
      "text/plain": [
       "'D:\\\\DeepLearning\\\\model\\\\time_translation'"
      ]
     },
     "execution_count": 105,
     "metadata": {},
     "output_type": "execute_result"
    }
   ],
   "source": [
    "saver.save(sess,r'D:\\DeepLearning\\model\\time_translation')"
   ]
  },
  {
   "cell_type": "code",
   "execution_count": null,
   "metadata": {},
   "outputs": [],
   "source": []
  }
 ],
 "metadata": {
  "kernelspec": {
   "display_name": "Python 3",
   "language": "python",
   "name": "python3"
  },
  "language_info": {
   "codemirror_mode": {
    "name": "ipython",
    "version": 3
   },
   "file_extension": ".py",
   "mimetype": "text/x-python",
   "name": "python",
   "nbconvert_exporter": "python",
   "pygments_lexer": "ipython3",
   "version": "3.6.5"
  }
 },
 "nbformat": 4,
 "nbformat_minor": 2
}
